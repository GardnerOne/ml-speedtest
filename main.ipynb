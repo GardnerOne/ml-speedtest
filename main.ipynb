{
 "metadata": {
  "language_info": {
   "codemirror_mode": {
    "name": "ipython",
    "version": 3
   },
   "file_extension": ".py",
   "mimetype": "text/x-python",
   "name": "python",
   "nbconvert_exporter": "python",
   "pygments_lexer": "ipython3",
   "version": "3.8.3-final"
  },
  "orig_nbformat": 2,
  "kernelspec": {
   "name": "python_defaultSpec_1598872240775",
   "display_name": "Python 3.8.3 64-bit ('base': conda)"
  }
 },
 "nbformat": 4,
 "nbformat_minor": 2,
 "cells": [
  {
   "cell_type": "markdown",
   "metadata": {},
   "source": [
    "# Internet speed analysis\n",
    "Check the internet speeds at regular intervals to determine peak usage times around the neighbourhood, and how this afects our speeds.\n",
    "\n",
    "Try correlating the speeds with times of day, days of the week, etc, or with big live streams or new show releases."
   ]
  },
  {
   "cell_type": "code",
   "execution_count": null,
   "metadata": {},
   "outputs": [],
   "source": [
    "# Import selenium\n",
    "from selenium import webdriver\n",
    "from selenium.webdriver.common.keys import Keys\n",
    "import pandas as pd\n",
    "import datetime\n",
    "import time\n",
    "import os"
   ]
  },
  {
   "cell_type": "code",
   "execution_count": null,
   "metadata": {},
   "outputs": [],
   "source": [
    "options = webdriver.ChromeOptions()\n",
    "options.add_argument('user-data-dir=/Users/gardnerone/Library/Application\\ Support/Google/Chrome/Profile\\ 1')"
   ]
  },
  {
   "cell_type": "code",
   "execution_count": null,
   "metadata": {},
   "outputs": [],
   "source": [
    "# Open Chrome at Ookla Speedtest\n",
    "driver = webdriver.Chrome(options=options)\n",
    "driver.get('https://www.speedtest.net')"
   ]
  },
  {
   "cell_type": "code",
   "execution_count": null,
   "metadata": {},
   "outputs": [],
   "source": [
    "# Run speedtest\n",
    "btn_go = driver.find_element_by_xpath('//*[@id=\"container\"]/div/div[3]/div/div/div/div[2]/div[3]/div[1]/a')\n",
    "btn_go.click()\n",
    "\n",
    "# Save current time\n",
    "dt = datetime.datetime.now()"
   ]
  },
  {
   "cell_type": "code",
   "execution_count": null,
   "metadata": {},
   "outputs": [],
   "source": [
    "# Wait x seconds for test to complete\n",
    "time.sleep(60)"
   ]
  },
  {
   "cell_type": "code",
   "execution_count": null,
   "metadata": {
    "tags": []
   },
   "outputs": [],
   "source": [
    "# Close speedtest desktop ad, if it exists\n",
    "btn_close = driver.find_element_by_xpath('//*[@id=\"container\"]/div/div[3]/div/div/div/div[2]/div[3]/div[3]/div/div[8]/div/a')\n",
    "try:\n",
    "    btn_close.click()\n",
    "except:\n",
    "    pass"
   ]
  },
  {
   "cell_type": "code",
   "execution_count": null,
   "metadata": {},
   "outputs": [],
   "source": [
    "# Get ping\n",
    "lbl_ping = driver.find_element_by_xpath('//*[@id=\"container\"]/div/div[3]/div/div/div/div[2]/div[3]/div[3]/div/div[3]/div/div/div[2]/div[1]/div[1]/div/div[2]/span')\n",
    "# Get download\n",
    "lbl_download = driver.find_element_by_xpath('//*[@id=\"container\"]/div/div[3]/div/div/div/div[2]/div[3]/div[3]/div/div[3]/div/div/div[2]/div[1]/div[2]/div/div[2]/span')\n",
    "# Get upload\n",
    "lbl_upload = driver.find_element_by_xpath('//*[@id=\"container\"]/div/div[3]/div/div/div/div[2]/div[3]/div[3]/div/div[3]/div/div/div[2]/div[1]/div[3]/div/div[2]/span')\n",
    "\n",
    "# Store vals\n",
    "ping = lbl_ping.text\n",
    "download = lbl_download.text\n",
    "upload = lbl_upload.text"
   ]
  },
  {
   "cell_type": "code",
   "execution_count": null,
   "metadata": {},
   "outputs": [],
   "source": [
    "# Save data to array\n",
    "data = [ping, download, upload, dt]\n",
    "df = pd.DataFrame([data], columns=['Ping', 'Download', 'Upload', 'Datetime'])"
   ]
  },
  {
   "cell_type": "code",
   "execution_count": null,
   "metadata": {},
   "outputs": [],
   "source": [
    "# Save to file, with headers if first save\n",
    "out_path = 'results.csv'\n",
    "df.to_csv(out_path, mode='a+', header=(not os.path.exists(out_path)), index=False)"
   ]
  },
  {
   "cell_type": "code",
   "execution_count": null,
   "metadata": {},
   "outputs": [],
   "source": [
    "test = pd.read_csv('results.csv')\n",
    "test"
   ]
  }
 ]
}